{
  "cells": [
    {
      "cell_type": "markdown",
      "metadata": {},
      "source": [
        "# Z3 Examples - SMT Solving with Python\n",
        "\n",
        "This notebook contains interactive examples for learning SMT solving with Z3."
      ]
    },
    {
      "cell_type": "code",
      "execution_count": 1,
      "metadata": {},
      "outputs": [
        {
          "name": "stdout",
          "output_type": "stream",
          "text": [
            "Collecting z3-solver\n",
            "  Using cached z3_solver-4.15.3.0-py3-none-macosx_13_0_arm64.whl.metadata (778 bytes)\n",
            "Using cached z3_solver-4.15.3.0-py3-none-macosx_13_0_arm64.whl (36.9 MB)\n",
            "Installing collected packages: z3-solver\n",
            "Successfully installed z3-solver-4.15.3.0\n",
            "Note: you may need to restart the kernel to use updated packages.\n"
          ]
        }
      ],
      "source": [
        "pip install z3-solver"
      ]
    },
    {
      "cell_type": "markdown",
      "metadata": {},
      "source": [
        "## Example 1: Basic Arithmetic\n"
      ]
    },
    {
      "cell_type": "code",
      "execution_count": 2,
      "metadata": {},
      "outputs": [
        {
          "name": "stdout",
          "output_type": "stream",
          "text": [
            "x = 4, y = 6\n"
          ]
        }
      ],
      "source": [
        "from z3 import *\n",
        "\n",
        "# Create integer variables\n",
        "x = Int('x')\n",
        "y = Int('y')\n",
        "\n",
        "# Create a solver\n",
        "s = Solver()\n",
        "\n",
        "# Add constraints\n",
        "s.add(x + y == 10)\n",
        "s.add(x > 3)\n",
        "\n",
        "# Check satisfiability\n",
        "if s.check() == sat:\n",
        "    model = s.model()\n",
        "    print(f\"x = {model[x]}, y = {model[y]}\")\n",
        "else:\n",
        "    print(\"Unsatisfiable\")\n"
      ]
    },
    {
      "cell_type": "markdown",
      "metadata": {},
      "source": [
        "## Example 2: Array Bounds Checking\n"
      ]
    },
    {
      "cell_type": "code",
      "execution_count": 3,
      "metadata": {},
      "outputs": [
        {
          "name": "stdout",
          "output_type": "stream",
          "text": [
            "Array access is safe! (index 5 in array of size 10)\n",
            "Array access may be unsafe! (index 15 in array of size 10)\n",
            "Counterexample: [i = 15]\n"
          ]
        }
      ],
      "source": [
        "from z3 import *\n",
        "\n",
        "def verify_array_access(array_size, user_input):\n",
        "    \"\"\"Verify that array access arr[index] is safe\"\"\"\n",
        "    i = Int('i')\n",
        "    s = Solver()\n",
        "    \n",
        "    # User input constraint\n",
        "    s.add(i == user_input)\n",
        "    \n",
        "    # Check if bounds can be violated\n",
        "    s.add(Not(And(0 <= i, i < array_size)))\n",
        "    \n",
        "    if s.check() == unsat:\n",
        "        print(f\"Array access is safe! (index {user_input} in array of size {array_size})\")\n",
        "    else:\n",
        "        print(f\"Array access may be unsafe! (index {user_input} in array of size {array_size})\")\n",
        "        print(\"Counterexample:\", s.model())\n",
        "\n",
        "# Test cases\n",
        "verify_array_access(10, 5)   # Safe\n",
        "verify_array_access(10, 15)  # Unsafe\n"
      ]
    },
    {
      "cell_type": "markdown",
      "metadata": {},
      "source": [
        "\n"
      ]
    },
    {
      "cell_type": "code",
      "execution_count": null,
      "metadata": {},
      "outputs": [],
      "source": [
        "\n"
      ]
    },
    {
      "cell_type": "markdown",
      "metadata": {},
      "source": [
        "\n"
      ]
    },
    {
      "cell_type": "code",
      "execution_count": null,
      "metadata": {},
      "outputs": [],
      "source": [
        "\n"
      ]
    },
    {
      "cell_type": "markdown",
      "metadata": {},
      "source": [
        "## Example 3: Theory Combination (Arithmetic + Arrays)\n"
      ]
    },
    {
      "cell_type": "code",
      "execution_count": 7,
      "metadata": {},
      "outputs": [
        {
          "name": "stdout",
          "output_type": "stream",
          "text": [
            "Checking satisfiability...\n",
            "x = 1\n",
            "SAT - formula is satisfiable!\n"
          ]
        }
      ],
      "source": [
        "from z3 import *\n",
        "\n",
        "# Mix arithmetic and arrays in one formula\n",
        "x = Int('x')\n",
        "A = Array('A', IntSort(), IntSort())\n",
        "B = Array('B', IntSort(), IntSort())\n",
        "\n",
        "s = Solver()\n",
        "s.add(x > 0)                    # Linear arithmetic theory\n",
        "s.add(A[x] == B[x+1])           # Array theory  \n",
        "s.add(A[x] + x == 10)   # Combined: arrays + arithmetic\n",
        "\n",
        "print(\"Checking satisfiability...\")\n",
        "if s.check() == sat:\n",
        "    model = s.model()\n",
        "    print(f\"x = {model[x]}\")\n",
        "    print(\"SAT - formula is satisfiable!\")\n",
        "else:\n",
        "    print(\"UNSAT - formula is unsatisfiable!\")\n"
      ]
    },
    {
      "cell_type": "markdown",
      "metadata": {},
      "source": [
        "## Example 4: Farmer's Animals\n"
      ]
    },
    {
      "cell_type": "code",
      "execution_count": 10,
      "metadata": {},
      "outputs": [
        {
          "name": "stdout",
          "output_type": "stream",
          "text": [
            "Solution: 23 chickens, 12 rabbits\n",
            "Verification: 23 + 12 heads, 2*23 + 4*12 legs\n"
          ]
        }
      ],
      "source": [
        "from z3 import *\n",
        "\n",
        "def solve_farmer_problem():\n",
        "    \"\"\"Solve: A farmer has chickens and rabbits. \n",
        "    He counts 35 heads and 94 legs. \n",
        "    How many chickens and rabbits does he have?\"\"\"\n",
        "    \n",
        "    c = Int('chickens')\n",
        "    r = Int('rabbits')\n",
        "    \n",
        "    s = Solver()\n",
        "    \n",
        "    # Constraints\n",
        "    s.add(c + r == 35)        # Total heads\n",
        "    s.add(2*c + 4*r == 94)    # Total legs (chickens have 2, rabbits have 4)\n",
        "    s.add(c >= 0)             # Non-negative\n",
        "    s.add(r >= 0)             # Non-negative\n",
        "    \n",
        "    if s.check() == sat:\n",
        "        model = s.model()\n",
        "        chickens = model[c]\n",
        "        rabbits = model[r]\n",
        "        print(f\"Solution: {chickens} chickens, {rabbits} rabbits\")\n",
        "        print(f\"Verification: {chickens + rabbits} heads, {2*chickens + 4*rabbits} legs\")\n",
        "    else:\n",
        "        print(\"No solution found\")\n",
        "\n",
        "solve_farmer_problem()\n"
      ]
    }
  ],
  "metadata": {
    "kernelspec": {
      "display_name": ".venv",
      "language": "python",
      "name": "python3"
    },
    "language_info": {
      "codemirror_mode": {
        "name": "ipython",
        "version": 3
      },
      "file_extension": ".py",
      "mimetype": "text/x-python",
      "name": "python",
      "nbconvert_exporter": "python",
      "pygments_lexer": "ipython3",
      "version": "3.12.4"
    }
  },
  "nbformat": 4,
  "nbformat_minor": 2
}
