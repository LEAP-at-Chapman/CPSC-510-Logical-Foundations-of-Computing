{
  "cells": [
    {
      "cell_type": "markdown",
      "metadata": {
        "id": "H29-YMznobCw"
      },
      "source": [
        "# Z3 Examples - SMT Solving with Python\n",
        "\n",
        "This notebook contains interactive examples for learning SMT solving with Z3.\n"
      ]
    },
    {
      "cell_type": "code",
      "execution_count": null,
      "metadata": {
        "colab": {
          "base_uri": "https://localhost:8080/"
        },
        "id": "oEC4cSphoqeB",
        "outputId": "7136cd02-7e0d-45fc-97ea-e9b25588fdfa"
      },
      "outputs": [
        {
          "name": "stdout",
          "output_type": "stream",
          "text": [
            "Requirement already satisfied: z3-solver in /Users/akurz/alexhkurz-at-git/LEAP-at-Chapman/CPSC-510-Logical-Foundations-of-Computing/.venv/lib/python3.12/site-packages (4.15.3.0)\n",
            "Note: you may need to restart the kernel to use updated packages.\n"
          ]
        }
      ],
      "source": [
        "pip install z3-solver"
      ]
    },
    {
      "cell_type": "markdown",
      "metadata": {
        "id": "pWlUOAJHobCy"
      },
      "source": [
        "## Example 1: Basic Arithmetic\n"
      ]
    },
    {
      "cell_type": "code",
      "execution_count": null,
      "metadata": {
        "colab": {
          "base_uri": "https://localhost:8080/"
        },
        "id": "-66x4B4EobCy",
        "outputId": "2de7878f-4d65-4512-ef13-6b9f794ec2c0"
      },
      "outputs": [
        {
          "name": "stdout",
          "output_type": "stream",
          "text": [
            "x = 4, y = 6\n"
          ]
        }
      ],
      "source": [
        "from z3 import *\n",
        "\n",
        "# Create integer variables\n",
        "x = Int('x')\n",
        "y = Int('y')\n",
        "\n",
        "# Create a solver\n",
        "s = Solver()\n",
        "\n",
        "# Add constraints\n",
        "s.add(x + y == 10)\n",
        "s.add(x > 3)\n",
        "\n",
        "# Check satisfiability\n",
        "if s.check() == sat:\n",
        "    model = s.model()\n",
        "    print(f\"x = {model[x]}, y = {model[y]}\")\n",
        "else:\n",
        "    print(\"Unsatisfiable\")\n"
      ]
    },
    {
      "cell_type": "markdown",
      "metadata": {
        "id": "HwgAA3XEobCy"
      },
      "source": [
        "## Example 2: Array Bounds Checking\n"
      ]
    },
    {
      "cell_type": "code",
      "execution_count": 3,
      "metadata": {
        "colab": {
          "base_uri": "https://localhost:8080/"
        },
        "id": "0-U6AHLzobCz",
        "outputId": "4f453ad2-9a1a-4c99-cc97-6f6f7d745a1b"
      },
      "outputs": [
        {
          "name": "stdout",
          "output_type": "stream",
          "text": [
            "Array access is safe! (index 5 in array of size 10)\n",
            "Array access may be unsafe! (index 15 in array of size 10)\n",
            "Counterexample: [i = 15]\n"
          ]
        }
      ],
      "source": [
        "from z3 import *\n",
        "\n",
        "def verify_array_access(array_size, user_input):\n",
        "    \"\"\"Verify that array access arr[index] is safe\"\"\"\n",
        "    i = Int('i')\n",
        "    s = Solver()\n",
        "\n",
        "    # User input constraint\n",
        "    s.add(i == user_input)\n",
        "\n",
        "    # Check if bounds can be violated\n",
        "    s.add(Not(And(0 <= i, i < array_size)))\n",
        "\n",
        "    if s.check() == unsat:\n",
        "        print(f\"Array access is safe! (index {user_input} in array of size {array_size})\")\n",
        "    else:\n",
        "        print(f\"Array access may be unsafe! (index {user_input} in array of size {array_size})\")\n",
        "        print(\"Counterexample:\", s.model())\n",
        "\n",
        "# Test cases\n",
        "verify_array_access(10, 5)   # Safe\n",
        "verify_array_access(10, 15)  # Unsafe\n"
      ]
    },
    {
      "cell_type": "markdown",
      "metadata": {
        "id": "t9zGPQbGobCz"
      },
      "source": [
        "## Example 3: Theory Combination (Arithmetic + Arrays)\n"
      ]
    },
    {
      "cell_type": "code",
      "execution_count": 4,
      "metadata": {
        "colab": {
          "base_uri": "https://localhost:8080/"
        },
        "id": "M4Pfl0c1obCz",
        "outputId": "365b1a02-28aa-4463-9b95-90cdfb2f0bae"
      },
      "outputs": [
        {
          "name": "stdout",
          "output_type": "stream",
          "text": [
            "Checking satisfiability...\n",
            "x = 1\n",
            "SAT - formula is satisfiable!\n"
          ]
        }
      ],
      "source": [
        "from z3 import *\n",
        "\n",
        "# Mix arithmetic and arrays in one formula\n",
        "x = Int('x')\n",
        "A = Array('A', IntSort(), IntSort())\n",
        "B = Array('B', IntSort(), IntSort())\n",
        "\n",
        "s = Solver()\n",
        "s.add(x > 0)                    # Linear arithmetic theory\n",
        "s.add(A[x] == B[x+1])           # Array theory\n",
        "s.add(A[x] + x == 10)   # Combined: arrays + arithmetic\n",
        "\n",
        "print(\"Checking satisfiability...\")\n",
        "if s.check() == sat:\n",
        "    model = s.model()\n",
        "    print(f\"x = {model[x]}\")\n",
        "    print(\"SAT - formula is satisfiable!\")\n",
        "else:\n",
        "    print(\"UNSAT - formula is unsatisfiable!\")"
      ]
    },
    {
      "cell_type": "markdown",
      "metadata": {
        "id": "VPxk7BzvobCz"
      },
      "source": [
        "## Example 4: Farmer's Animals\n"
      ]
    },
    {
      "cell_type": "code",
      "execution_count": 5,
      "metadata": {
        "colab": {
          "base_uri": "https://localhost:8080/"
        },
        "id": "cf1m546hobCz",
        "outputId": "77601f71-cdd5-4185-d2c8-e75b8cc7e9c0"
      },
      "outputs": [
        {
          "name": "stdout",
          "output_type": "stream",
          "text": [
            "Solution: 23 chickens, 12 rabbits\n",
            "Verification: 23 + 12 heads, 2*23 + 4*12 legs\n"
          ]
        }
      ],
      "source": [
        "from z3 import *\n",
        "\n",
        "def solve_farmer_problem():\n",
        "    \"\"\"Solve: A farmer has chickens and rabbits.\n",
        "    He counts 35 heads and 94 legs.\n",
        "    How many chickens and rabbits does he have?\"\"\"\n",
        "\n",
        "    c = Int('chickens')\n",
        "    r = Int('rabbits')\n",
        "\n",
        "    s = Solver()\n",
        "\n",
        "    # Constraints\n",
        "    s.add(c + r == 35)        # Total heads\n",
        "    s.add(2*c + 4*r == 94)    # Total legs (chickens have 2, rabbits have 4)\n",
        "    s.add(c >= 0)             # Non-negative\n",
        "    s.add(r >= 0)             # Non-negative\n",
        "\n",
        "    if s.check() == sat:\n",
        "        model = s.model()\n",
        "        chickens = model[c]\n",
        "        rabbits = model[r]\n",
        "        print(f\"Solution: {chickens} chickens, {rabbits} rabbits\")\n",
        "        print(f\"Verification: {chickens + rabbits} heads, {2*chickens + 4*rabbits} legs\")\n",
        "    else:\n",
        "        print(\"No solution found\")\n",
        "\n",
        "solve_farmer_problem()\n"
      ]
    },
    {
      "cell_type": "markdown",
      "metadata": {
        "id": "wU61CE7i6wwZ"
      },
      "source": [
        "## Example 5: Finding Multiple Solutions\n",
        "\n",
        "Sometimes we want to find all possible solutions to a problem, not just one. Z3 only finds one solution at a time, so we need to use a loop to enumerate all solutions."
      ]
    },
    {
      "cell_type": "markdown",
      "metadata": {
        "id": "r7yTiYL06uah"
      },
      "source": []
    },
    {
      "cell_type": "code",
      "execution_count": 6,
      "metadata": {
        "colab": {
          "base_uri": "https://localhost:8080/"
        },
        "id": "DFPxRU6X671y",
        "outputId": "068d151a-59b9-45cc-f3b9-de2609107f63"
      },
      "outputs": [
        {
          "name": "stdout",
          "output_type": "stream",
          "text": [
            "Finding all solutions to: x + y = 10, x ≥ 0, y ≥ 0\n",
            "--------------------------------------------------\n",
            "Solution 1: x = 10, y = 0\n",
            "Solution 2: x = 0, y = 10\n",
            "Solution 3: x = 1, y = 9\n",
            "Solution 4: x = 2, y = 8\n",
            "Solution 5: x = 3, y = 7\n",
            "Solution 6: x = 4, y = 6\n",
            "Solution 7: x = 5, y = 5\n",
            "Solution 8: x = 6, y = 4\n",
            "Solution 9: x = 7, y = 3\n",
            "Solution 10: x = 8, y = 2\n",
            "... (stopping after 10 solutions for demo)\n",
            "\n",
            "Total solutions found: 10\n"
          ]
        }
      ],
      "source": [
        "from z3 import *\n",
        "\n",
        "def find_all_solutions():\n",
        "    \"\"\"Find all solutions to x + y = 10 with x ≥ 0, y ≥ 0\"\"\"\n",
        "\n",
        "    x = Int('x')\n",
        "    y = Int('y')\n",
        "\n",
        "    s = Solver()\n",
        "\n",
        "    # Constraints: x + y = 10, x ≥ 0, y ≥ 0\n",
        "    s.add(x + y == 10)\n",
        "    s.add(x >= 0)\n",
        "    s.add(y >= 0)\n",
        "\n",
        "    solutions = []\n",
        "\n",
        "    print(\"Finding all solutions to: x + y = 10, x ≥ 0, y ≥ 0\")\n",
        "    print(\"-\" * 50)\n",
        "\n",
        "    while s.check() == sat:\n",
        "        model = s.model()\n",
        "        x_val = model[x]\n",
        "        y_val = model[y]\n",
        "        solutions.append((x_val, y_val))\n",
        "\n",
        "        print(f\"Solution {len(solutions)}: x = {x_val}, y = {y_val}\")\n",
        "\n",
        "        # CRITICAL: Exclude this specific solution to avoid infinite loop\n",
        "        # We must exclude the complete model, not just individual variables\n",
        "        s.add(Not(And(x == x_val, y == y_val)))\n",
        "\n",
        "        # Safety check (optional, for demo purposes)\n",
        "        if len(solutions) >= 10:\n",
        "            print(\"... (stopping after 10 solutions for demo)\")\n",
        "            break\n",
        "\n",
        "    print(f\"\\nTotal solutions found: {len(solutions)}\")\n",
        "    return solutions\n",
        "\n",
        "# Run the example\n",
        "solutions = find_all_solutions()"
      ]
    },
    {
      "cell_type": "markdown",
      "metadata": {
        "id": "kbA5lFoy7mqG"
      },
      "source": [
        "Note the line\n",
        "```python\n",
        "s.add(Not(And(x == x_val, y == y_val)))  \n",
        "```\n",
        "which makes sure that next time round the while loop a new solution is found."
      ]
    }
  ],
  "metadata": {
    "colab": {
      "provenance": []
    },
    "kernelspec": {
      "display_name": ".venv",
      "language": "python",
      "name": "python3"
    },
    "language_info": {
      "codemirror_mode": {
        "name": "ipython",
        "version": 3
      },
      "file_extension": ".py",
      "mimetype": "text/x-python",
      "name": "python",
      "nbconvert_exporter": "python",
      "pygments_lexer": "ipython3",
      "version": "3.12.4"
    }
  },
  "nbformat": 4,
  "nbformat_minor": 0
}
